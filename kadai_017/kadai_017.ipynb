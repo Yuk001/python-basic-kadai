class Human:
  def __init__(self, name, age):
    self.name = name
    self.age = age

  def check_adult(self):
     if self.age >= 20:
      print(self.name + "大人です。")
     else:
      print(self.name + "大人ではありません。")

human_list = [Human("侍太郎", 36), Human("侍次郎", 17), Human("侍一郎", 25)]

for value in human_list:
  value.check_adult()
