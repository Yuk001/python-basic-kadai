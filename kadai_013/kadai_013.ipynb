def calculate_total(price, tax):
  total = price + price * tax / 100
  return total
calculate_total(1000, 10)
