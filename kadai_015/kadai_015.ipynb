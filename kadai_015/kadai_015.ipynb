class Human:

 def __init__(self, name, age):
  self.name = name
  self.age = age

 def set_name_age(self, name):
  self.name = name

 def printinfo(self):
  print(self.name)
  print(self.age)

human = Human("侍太郎", 36)

human.printinfo()
